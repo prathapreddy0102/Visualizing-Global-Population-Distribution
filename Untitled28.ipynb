# -----------------------------------------------
# Title: Visualizing Global Population Distribution
# -----------------------------------------------

# Step 1: Import required libraries
import pandas as pd
import matplotlib.pyplot as plt

# Step 2: Load the dataset
file_path = "API_SP.POP.TOTL_DS2_en_csv_v2_38144.csv"  # Adjust path if needed
df = pd.read_csv(file_path, skiprows=4)

# Step 3: Select the year of interest (e.g., 2024)
year = '2024'
df_year = df[['Country Name', year]].dropna()

# Step 4: Bar Chart for Selected Countries
selected_countries = ['India', 'China', 'United States', 'Indonesia', 'Pakistan',
                      'Brazil', 'Nigeria', 'Bangladesh', 'Russia', 'Mexico']

df_selected = df_year[df_year['Country Name'].isin(selected_countries)]
df_selected = df_selected.sort_values(by=year, ascending=False)

# Plot bar chart
plt.figure(figsize=(12, 6))
plt.bar(df_selected['Country Name'], df_selected[year], color='skyblue')
plt.title(f'Population of Selected Countries in {year}', fontsize=14)
plt.xlabel('Country')
plt.ylabel('Population')
plt.xticks(rotation=45)
plt.grid(axis='y', linestyle='--', alpha=0.7)
plt.tight_layout()
plt.show()

# Step 5: Histogram for All Countries
plt.figure(figsize=(10, 6))
plt.hist(df_year[year], bins=30, color='salmon', edgecolor='black')
plt.title(f'Distribution of Population Across Countries in {year}', fontsize=14)
plt.xlabel('Population')
plt.ylabel('Number of Countries')
plt.grid(axis='y', linestyle='--', alpha=0.7)
plt.tight_layout()
plt.show()
